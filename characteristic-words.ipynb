{
 "cells": [
  {
   "cell_type": "markdown",
   "metadata": {},
   "source": [
    "# Characteristic words finder\n",
    "\n",
    "In this notebook, we build methods for quickly finding and ranking the most \"idiosyncratic\" words for each person. We do this following the simple math logic of this page: \n",
    "\n",
    "http://varianceexplained.org/r/trump-tweets/\n",
    "\n",
    "The most important equation for how each word is scored for each theorist:\n",
    "\n",
    "$\\Large log\\frac{(\\frac{word\\,ct\\,for\\, author}{total\\, words\\, for\\, author})}{(\\frac{word\\, ct\\, for\\, OTHER \\,authors}{total \\,words\\, for\\, OTHER \\,authors})}$\n",
    "\n",
    "\n",
    "Two steps:\n",
    "\n",
    "1) Extract word counts into a dictionary by [word][author]\n",
    "\n",
    "2) Convert dictionary into a word score dictionary by [word][author] by the above formula\n",
    "\n",
    "3) Visualize the results\n"
   ]
  },
  {
   "cell_type": "code",
   "execution_count": 4,
   "metadata": {},
   "outputs": [],
   "source": [
    "TEXTS_DIRECTORY = \"theory-texts\" #this can be changed."
   ]
  },
  {
   "cell_type": "markdown",
   "metadata": {},
   "source": [
    "### 1) Extracting word counts\n",
    "\n",
    "We end up with a frequency dictionary that goes like [word][author] = number"
   ]
  },
  {
   "cell_type": "code",
   "execution_count": 6,
   "metadata": {},
   "outputs": [
    {
     "name": "stdout",
     "output_type": "stream",
     "text": [
      "['butler-gender_trouble.txt']\n",
      "['discipline-punish.txt']\n",
      "['sublime-object.txt']\n",
      "['derrida_dissemination.txt']\n"
     ]
    }
   ],
   "source": [
    "import os\n",
    "from collections import defaultdict, Counter\n",
    "from nltk import ngrams\n",
    "\n",
    "import string\n",
    "\n",
    "def ngram_tokenize(s, rng=(1,1)):\n",
    "    \"\"\"Turn text into a lowercase list of ngrams with no punctuation\"\"\"\n",
    "    simpletext = s.translate(str.maketrans('', '', string.punctuation)).lower().split()\n",
    "    \n",
    "    ngram_list = []\n",
    "    \n",
    "    for N in range(rng[0], rng[1]+1): #iterate thru Ngram n values\n",
    "        grams = ngrams(simpletext, N) #create ngrams (each ngram is a list of words)\n",
    "        for gram in grams: #convert each ngram into string and add to ngram list\n",
    "            ngram_list.append(' '.join(gram))\n",
    "    \n",
    "    return ngram_list\n",
    "    \n",
    "\n",
    "def listdir_nothidden(directory):\n",
    "    \"\"\"List files/folders in a directory EXCLUDING hidden files, whose names start with a dot\"\"\"\n",
    "    files = os.listdir(directory)\n",
    "    return [filename for filename in files if not filename.startswith(\".\")]\n",
    "\n",
    "\n",
    "def clean_words(dictionary, word_list):\n",
    "    \"\"\"Set a list of words' counts to 0\"\"\"\n",
    "    for word in word_list:\n",
    "        try:\n",
    "            for author in dictionary[word].keys():\n",
    "                dictionary[word][author]=0\n",
    "        except:\n",
    "            print(word, \"not found in dictionary\")\n",
    "            \n",
    "    return dictionary\n",
    "\n",
    "def word_counts(directory):\n",
    "    \"\"\"Extract word count based on assumption that subdirectory name is author name\"\"\"\n",
    "    #make a list of the folders (ignoring hidden files!)\n",
    "    authorfolders = listdir_nothidden(directory)\n",
    "\n",
    "    word_count_dict = defaultdict(Counter)\n",
    "\n",
    "    for authorname in authorfolders:\n",
    "        for textfile in listdir_nothidden(directory+\"/\"+authorname):\n",
    "            print(listdir_nothidden(directory+\"/\"+authorname))\n",
    "            f = open(directory+\"/\"+authorname+\"/\"+textfile, errors = \"ignore\", encoding = \"utf-8\") #open the text file\n",
    "            textstring = f.read()\n",
    "\n",
    "            #loop through text file\n",
    "            for word in ngram_tokenize(textstring, rng=(1,1)): #create ngrams with given range of n\n",
    "                word_count_dict[word][authorname] += 1 #increment the word's entry for that author name\n",
    "\n",
    "            f.close() #close the file now that we're done with it       \n",
    "    \n",
    "    return word_count_dict\n",
    "\n",
    "\n",
    "#create the dictionary\n",
    "word_count_dict = word_counts(TEXTS_DIRECTORY)\n",
    "\n",
    "\n",
    "#clean the dictionary of SPECIFIC WORDS we know we don't want to be in there\n",
    "words_to_remove = ['ect', 'bj', 'eology', 'subj', 'obj', 'subli']\n",
    "word_count_dict = clean_words(word_count_dict, words_to_remove)\n",
    "\n"
   ]
  },
  {
   "cell_type": "markdown",
   "metadata": {},
   "source": [
    "Pickle the dictionary"
   ]
  },
  {
   "cell_type": "code",
   "execution_count": 3,
   "metadata": {},
   "outputs": [],
   "source": [
    "import pickle\n",
    "\n",
    "# Store data (serialize)\n",
    "with open('word-counts.pickle', 'wb') as handle:\n",
    "    pickle.dump(word_count_dict, handle, protocol=pickle.HIGHEST_PROTOCOL)\n"
   ]
  },
  {
   "cell_type": "markdown",
   "metadata": {},
   "source": [
    "### 2) Create dictionary of word specificity scores for each author\n",
    "\n",
    "Now, we use the logarithm formula spacified above to create a new [author][word] dictionary that tells you the word's specificity score (as logarithm ratio) of each word for each author"
   ]
  },
  {
   "cell_type": "code",
   "execution_count": 30,
   "metadata": {},
   "outputs": [
    {
     "name": "stdout",
     "output_type": "stream",
     "text": [
      "Most characteristic words for Judith Butler:\n",
      "['gender', 'heterosexual', 'heterosexuality', 'wittig', 'lesbian']\n",
      "\n",
      "Most characteristic words for Michel Foucault:\n",
      "['delinquency', 'illegality', 'penitentiary', 'imprisonment', 'illegalities']\n",
      "\n",
      "Most characteristic words for Slavoj Zizek:\n",
      "['jew', 'traumatic', 'misrecognition', 'vuoi', 'antagonism']\n",
      "\n",
      "Most characteristic words for Jacques Derrida:\n",
      "['hymen', 'pharmakon', 'session', 'mallarme', 'socrates']\n",
      "\n",
      "\n"
     ]
    }
   ],
   "source": [
    "from math import log\n",
    "\n",
    "def word_score_formula(author_word_nr, author_total_words, corpus_word_nr, corpus_total_words):\n",
    "    \"\"\"Score words -- but only those over a certain number of occurences\n",
    "    IMPORTANT NOTE: compares this author's usage to ALL OTHER authors, excluding the one under consideration\"\"\"\n",
    "    \n",
    "    if corpus_word_nr >= 15.0: #only score those words which have over this many occurences\n",
    "        result = log(((author_word_nr+1)/(author_total_words+1))/\n",
    "                     ((corpus_word_nr-author_word_nr+1)/(corpus_total_words-author_total_words+1))) #subtract this author's counts from the total\n",
    "    else:\n",
    "        result = -9999.0\n",
    "    \n",
    "    return result\n",
    "\n",
    "def word_score(word_count_dict):\n",
    "    \"\"\"Given a word count dictionary, return a dictionary of word idiosyncracy scores like [author][word]\"\"\"\n",
    "\n",
    "    total_words_per_author = Counter()\n",
    "    for word in word_count_dict.keys(): #iterate through words in our count dict\n",
    "        for author in word_count_dict[word].keys(): #iterate through authors\n",
    "            total_words_per_author[author] += word_count_dict[word][author] #add that authors count for that word to that author's total word count\n",
    "\n",
    "    corpus_word_count = sum(total_words_per_author.values()) #find out how many words in total\n",
    "\n",
    "    word_scores = defaultdict(defaultdict) #initialize blank two level dictionary of sort [author][word]\n",
    "\n",
    "    for word in word_count_dict.keys(): #iterate through words in our count dict\n",
    "        corpus_word_nr = sum(word_count_dict[word].values()) #how many times this word is used in GENERAL\n",
    "        #print(corpus_word_nr)\n",
    "        #print(word, corpus_word_nr)\n",
    "        for author in word_count_dict[word].keys(): #iterate through authors\n",
    "            author_word_nr = word_count_dict[word][author] #how many times THIS AUTHOR uses the word\n",
    "            word_scores[author][word] = word_score_formula(author_word_nr, total_words_per_author[author], corpus_word_nr, corpus_word_count)\n",
    "            #print(word_scores[author][word])\n",
    "            \n",
    "    #clean up the results--remove words that didn't meet the minimum occurence threshold:\n",
    "\n",
    "    #find words to drop\n",
    "    dropkeys = []\n",
    "    for author in word_scores.keys():\n",
    "        for key, value in word_scores[author].items():\n",
    "            if value == -9999.0:\n",
    "                dropkeys.append(key)\n",
    "\n",
    "\n",
    "    #copy score dictionary for author, remove the terms and replace the original dictionary with the new one\n",
    "    for author in word_scores.keys():\n",
    "        newdict = word_scores[author]\n",
    "        for key in dropkeys:\n",
    "            try:\n",
    "                newdict.pop(key)\n",
    "            except:\n",
    "                continue\n",
    "        word_scores[author] = newdict #replace word score entry for that author with the newly-created cleaned-up dictionary\n",
    "        \n",
    "    return word_scores\n",
    "\n",
    "def author_word_scores_text(word_scores):\n",
    "    scoretext = \"\"\n",
    "    for author in word_scores.keys():\n",
    "        ranked_words = sorted(word_scores[author].items(), key=lambda x: x[1], reverse=True)\n",
    "        wordlist = [item[0] for item in ranked_words] #remove the scores\n",
    "        scoretext += \"Most characteristic words for {}:\\n{}\\n\\n\".format(author, wordlist[:5])\n",
    "    return scoretext\n",
    "\n",
    "\n",
    "#print the top scores\n",
    "print(author_word_scores_text(word_score(word_count_dict)))"
   ]
  },
  {
   "cell_type": "markdown",
   "metadata": {},
   "source": [
    "We do have to do some work to clean the results, specifically to completley remove the words which were below the frequency threshold, used too rarely to matter. They will not have a score saved."
   ]
  },
  {
   "cell_type": "code",
   "execution_count": 11,
   "metadata": {},
   "outputs": [
    {
     "data": {
      "text/plain": [
       "['Judith Butler', 'Michel Foucault', 'Slavoj Zizek', 'Jacques Derrida']"
      ]
     },
     "execution_count": 11,
     "metadata": {},
     "output_type": "execute_result"
    }
   ],
   "source": []
  },
  {
   "cell_type": "markdown",
   "metadata": {},
   "source": []
  },
  {
   "cell_type": "code",
   "execution_count": null,
   "metadata": {
    "collapsed": true,
    "jupyter": {
     "outputs_hidden": true
    }
   },
   "outputs": [],
   "source": []
  },
  {
   "cell_type": "markdown",
   "metadata": {},
   "source": [
    "### 3) Ranking words in dataframes\n",
    "\n",
    "Each author gets their own dataframe"
   ]
  },
  {
   "cell_type": "code",
   "execution_count": 6,
   "metadata": {},
   "outputs": [
    {
     "name": "stdout",
     "output_type": "stream",
     "text": [
      "\n",
      "                  Judith Butler\n",
      "gender                8.210356\n",
      "heterosexual          6.675026\n",
      "heterosexuality       6.403092\n",
      "\n",
      "               Michel Foucault\n",
      "delinquency          5.534236\n",
      "illegality           5.411633\n",
      "penitentiary         5.255064\n",
      "\n",
      "                 Slavoj Zizek\n",
      "jew                 5.332154\n",
      "traumatic           5.238628\n",
      "misrecognition      4.862151\n",
      "\n",
      "            Jacques Derrida\n",
      "hymen             5.657502\n",
      "pharmakon         5.573115\n",
      "session           5.340492\n"
     ]
    }
   ],
   "source": [
    "import pandas as pd\n",
    "\n",
    "def scores_to_dataframes(word_score_dicts):\n",
    "    \"\"\"Takes a dictionary of dictionaries of words scores (author is key) and returns a dictionary of dataframes, where the author is the key.\n",
    "    The scores are 'specialness' scores, as it were, rather than counts. \"\"\"\n",
    "    dfs = defaultdict() #dictionary of dataframes by name\n",
    "    for author, scoredict in word_score_dicts.items(): #loop through authors (key), and dictionaries of word score (value)\n",
    "        #create a new dataframe for that author's word scores. add df to the dictionary of dataframes, label the with the author's name, and sort scores in ascending order\n",
    "        dfs[author]=pd.DataFrame.from_dict(scoredict, orient='index').sort_values(by=0, ascending=False).rename(columns = {0: author})\n",
    "    return dfs\n",
    "\n",
    "dfs = scores_to_dataframes(word_scores)\n",
    "\n",
    "#print the values to show top\n",
    "for df in dfs.values():\n",
    "    print(\"\\n\", df.head(3))\n"
   ]
  },
  {
   "cell_type": "markdown",
   "metadata": {},
   "source": [
    "### 4) Graphing results\n",
    "\n",
    "We use subplots to graph the top several words in each dataframe."
   ]
  },
  {
   "cell_type": "code",
   "execution_count": 7,
   "metadata": {},
   "outputs": [
    {
     "name": "stdout",
     "output_type": "stream",
     "text": [
      "4\n"
     ]
    },
    {
     "data": {
      "image/png": "[encoded data removed]",
      "text/plain": [
       "<Figure size 720x1440 with 4 Axes>"
      ]
     },
     "metadata": {},
     "output_type": "display_data"
    }
   ],
   "source": [
    "import matplotlib.pyplot as plt\n",
    "\n",
    "def plot_dfs(dfs):\n",
    "    \"\"\"Given a dictionary of dataframes with word characteristic scores for each author, graph them as bar charts as subplots\"\"\"\n",
    "    plt.style.use('dark_background')\n",
    "\n",
    "    plt.rc('xtick', labelsize=20) \n",
    "    plt.rc('ytick', labelsize=20) \n",
    "    plt.rcParams.update({'font.size': 18})\n",
    "\n",
    "    n_authors = len(dfs)\n",
    "    print(n_authors)\n",
    "\n",
    "    fig, axs = plt.subplots(n_authors, figsize=(10,5*n_authors)) #create as many subplots as authors\n",
    "    fig.suptitle('Most characteristic words of each author \\n(usage frequency, log ratio to other authors)')\n",
    "    \n",
    "    authorindex = 0 #this index will make sure each author is assigned a corresponding subplot\n",
    "    \n",
    "    for author, df in dfs.items():\n",
    "        axs[authorindex].barh(df.head().index[::-1], df.head()[author][::-1], color = \"lightblue\") #reversing order with the ::-1 thing!\n",
    "        axs[authorindex].title.set_text(author.capitalize()+\":\")\n",
    "        authorindex += 1 #increment author index\n",
    "        \n",
    "    plt.show()\n",
    "    \n",
    "\n",
    "plot_dfs(dfs)\n"
   ]
  },
  {
   "cell_type": "markdown",
   "metadata": {},
   "source": [
    "## 5) Writing a new text's most specific words + the assigned author's most specific words:"
   ]
  },
  {
   "cell_type": "markdown",
   "metadata": {},
   "source": [
    "## The new text's most specific words"
   ]
  },
  {
   "cell_type": "code",
   "execution_count": 14,
   "metadata": {},
   "outputs": [
    {
     "data": {
      "text/plain": [
       "[('fountain', 8.09889656913234),\n",
       " ('bottle', 7.559900068399653),\n",
       " ('dg', 7.405749388572395),\n",
       " ('cornell’s', 7.405749388572395),\n",
       " ('2014', 7.405749388572395),\n",
       " ('defunct', 7.405749388572395),\n",
       " ('fountain”', 7.405749388572395),\n",
       " ('2nd', 7.405749388572395),\n",
       " ('hydration', 7.405749388572395),\n",
       " ('fountain’s', 7.405749388572395)]"
      ]
     },
     "execution_count": 14,
     "metadata": {},
     "output_type": "execute_result"
    }
   ],
   "source": [
    "def word_score_formula_new_text(author_word_nr, author_total_words, corpus_word_nr, corpus_total_words):\n",
    "    \"\"\"Score words for specificity to this new text -- but only those over a certain number of occurences\n",
    "    IMPORTANT NOTE: compares this new text's usage to ALL  authors in the training corpus, excluding nobody from original word count dictionary\n",
    "    this puts it in contrast with the previous version of this method\"\"\"\n",
    "    \n",
    "    if author_word_nr >= 2.0: #only score those words which have over this many occurences FOR THIS AUTHOR (previous version looked at total corpus occurences)\n",
    "        result = log(((author_word_nr+1)/(author_total_words+1))/\n",
    "                     ((corpus_word_nr+1)/(corpus_total_words+1))) #subtract this author's counts from the total\n",
    "    else:\n",
    "        result = -9999.0\n",
    "    \n",
    "    return result\n",
    "\n",
    "\n",
    "def new_text_word_score(new_text, corpus_word_count_dict):\n",
    "    \"\"\"Given a NEW TEXT, return a dictionary of word idiosyncracy scores for this new text, compared to our training corpus.\"\"\"\n",
    "\n",
    "    #generate ngram count dictionary\n",
    "    newtext_ngrams = ngram_tokenize(newtext)\n",
    "    new_text_counts = Counter(newtext_ngrams)\n",
    "    \n",
    "    #get how many words each author used in corpus, as dictionary of author counts\n",
    "    total_words_per_author = Counter()\n",
    "    for word in word_count_dict.keys(): #iterate through words in our count dict\n",
    "        for author in word_count_dict[word].keys(): #iterate through authors\n",
    "            total_words_per_author[author] += word_count_dict[word][author] #add that authors count for that word to that author's total word count\n",
    "\n",
    "    #find out how many words in total in training corpus    \n",
    "    corpus_word_count = sum(total_words_per_author.values()) \n",
    "    \n",
    "    \n",
    "    #initialize dictionary. [word] returns idiosyncrasy score for this text's words\n",
    "    word_scores = defaultdict() \n",
    "    \n",
    "    #total number of new words for the new text\n",
    "    new_text_totalwords = sum(new_text_counts.values()) \n",
    "\n",
    "    for word in new_text_counts.keys(): #iterate through words in our count dictionary for the new text\n",
    "        corpus_word_nr = sum(corpus_word_count_dict[word].values()) #how many times this word is used in GENERAL IN THE CORPUS\n",
    "\n",
    "        newtext_word_nr = new_text_counts[word] #how many times the new text uses the word\n",
    "        \n",
    "        #we score the idiosyncrasy of this word to this new text\n",
    "        word_scores[word] = word_score_formula_new_text(newtext_word_nr, new_text_totalwords, corpus_word_nr, corpus_word_count)\n",
    "        #print(word_scores[author][word])\n",
    "    return word_scores\n",
    "\n",
    "def new_text_top_words(new_text, corpus_word_counts):\n",
    "    \"\"\"Generate sorted list of most specific words to new text, vs. corpus word counts\"\"\"\n",
    "    newtext_scores = new_text_word_score(new_text, corpus_word_counts)\n",
    "    return sorted(newtext_scores.items(), key=lambda x: x[1], reverse=True)\n",
    "    \n",
    "\n",
    "    \n",
    "    \n",
    "    \n",
    "    \n",
    "    \n",
    "    \n",
    "    \n",
    "#import word count dicitonary for corpus\n",
    "with open('word-counts.pickle', 'rb') as handle:\n",
    "    word_counts_imported = pickle.load(handle) #import this [word][author] count dictionary\n",
    "    \n",
    "#import test text\n",
    "testpath = \"/Users/macbook/Downloads/fountainpen.txt\"\n",
    "f = open(testpath, \"r\")\n",
    "newtext = f.read()\n",
    "\n",
    "#get new text's specific words, ranked!\n",
    "top10 = new_text_top_words(newtext, word_counts_imported)[:10]\n",
    "\n",
    "top10\n",
    "\n",
    "#we have successfully produced a sorted list of words and specificity scores TO THE NEW TEXT."
   ]
  },
  {
   "cell_type": "markdown",
   "metadata": {},
   "source": [
    "## The assigned author's most specific words:"
   ]
  },
  {
   "cell_type": "code",
   "execution_count": 9,
   "metadata": {},
   "outputs": [
    {
     "data": {
      "text/plain": [
       "[('gender', 8.210355920121678),\n",
       " ('heterosexual', 6.6750259798413),\n",
       " ('heterosexuality', 6.403092264357658),\n",
       " ('wittig', 6.33018549354957),\n",
       " ('lesbian', 6.072850577487081),\n",
       " ('culturally', 5.678196385483132),\n",
       " ('gendered', 5.645406562660142),\n",
       " ('herculine', 5.594113268272591),\n",
       " ('cultural', 5.511875170035619),\n",
       " ('argues', 5.502305719019469)]"
      ]
     },
     "execution_count": 9,
     "metadata": {},
     "output_type": "execute_result"
    }
   ],
   "source": [
    "def characteristic_words_ranked(author, scores_dict):\n",
    "    scores = scores_dict[author]\n",
    "    return sorted(scores.items(), key=lambda x: x[1], reverse=True)\n",
    "\n",
    "characteristic_words_ranked(\"Judith Butler\", word_scores)[:10]"
   ]
  },
  {
   "cell_type": "code",
   "execution_count": null,
   "metadata": {},
   "outputs": [],
   "source": []
  },
  {
   "cell_type": "markdown",
   "metadata": {},
   "source": [
    "## SUSPENDED) Identifying words that the NEW TEXT shares in common with the theorist it got assigned to\n",
    "\n",
    "### Actually we will not be pursuing this route either, even though it works -- it's too messy for the conclusions to be meaningful"
   ]
  },
  {
   "cell_type": "code",
   "execution_count": 10,
   "metadata": {},
   "outputs": [],
   "source": [
    "#import test text\n",
    "testpath = \"/Users/macbook/Downloads/fountainpen.txt\"\n",
    "f = open(testpath, \"r\")\n",
    "newtext = f.read()"
   ]
  },
  {
   "cell_type": "code",
   "execution_count": 11,
   "metadata": {},
   "outputs": [
    {
     "data": {
      "text/plain": [
       "['great',\n",
       " 'was',\n",
       " 'rights',\n",
       " 'information',\n",
       " 'power',\n",
       " 'had',\n",
       " 'examination',\n",
       " 'took',\n",
       " 'brought',\n",
       " 'z',\n",
       " 'france',\n",
       " 'legal',\n",
       " 'distribution',\n",
       " 'ritual',\n",
       " 'day',\n",
       " 'school',\n",
       " 'bring',\n",
       " 'popular',\n",
       " 'public',\n",
       " 'control',\n",
       " 'learning',\n",
       " 'forced',\n",
       " 'age',\n",
       " 'prevent',\n",
       " 'condemned',\n",
       " 'judge',\n",
       " 'regarded',\n",
       " 'increasing',\n",
       " 'carry',\n",
       " 'gave',\n",
       " 'rise',\n",
       " 'subtle',\n",
       " 'institutions',\n",
       " 'medical',\n",
       " 'disciplinary',\n",
       " 'authorities',\n",
       " 'individual',\n",
       " 'year',\n",
       " 'throughout',\n",
       " 'individuals',\n",
       " 'right',\n",
       " 'period',\n",
       " 'constraint',\n",
       " 'applied',\n",
       " 'distributed',\n",
       " 'building',\n",
       " 'sovereign',\n",
       " 'disorder',\n",
       " 'application',\n",
       " 'organized',\n",
       " 'committed',\n",
       " 'responsibility',\n",
       " 'investigation',\n",
       " 'police',\n",
       " 'isolation',\n",
       " 'subjection',\n",
       " 'useful',\n",
       " 'groups',\n",
       " 'goods',\n",
       " 'behaviour',\n",
       " 'observation',\n",
       " 'religious',\n",
       " 'tortured',\n",
       " 'morality',\n",
       " 'modality',\n",
       " 'punished',\n",
       " 'punishing',\n",
       " 'proof',\n",
       " 'patient',\n",
       " 'patients',\n",
       " 'punishments',\n",
       " 'code',\n",
       " 'punitive',\n",
       " 'privileged',\n",
       " 'imposing',\n",
       " 'humanity',\n",
       " 'prison',\n",
       " 'reform',\n",
       " 'criminal',\n",
       " 'regulations',\n",
       " 'education',\n",
       " 'triumph',\n",
       " 'punishment',\n",
       " 'poor',\n",
       " 'hospital',\n",
       " 'feet',\n",
       " 'wished',\n",
       " 'nineteenth',\n",
       " 'century',\n",
       " 'population',\n",
       " 'economic',\n",
       " 'orders',\n",
       " 'minds',\n",
       " 'carried',\n",
       " 'sovereignty',\n",
       " 'target',\n",
       " 'arms',\n",
       " 'torture',\n",
       " 'penal',\n",
       " 'below',\n",
       " 'punish',\n",
       " 'discipline',\n",
       " 'prisoners',\n",
       " 'functioning',\n",
       " 'exercised',\n",
       " 'instruments',\n",
       " 'confrontation',\n",
       " 'worker',\n",
       " 'procedures',\n",
       " 'detailed',\n",
       " 'r',\n",
       " 'integrated',\n",
       " 'crimes',\n",
       " 'individuality',\n",
       " 'spectacleof',\n",
       " 'generalizedpunishment',\n",
       " 'docile',\n",
       " 'meansof',\n",
       " 'panopticism',\n",
       " 'illegalities',\n",
       " 'delinquency',\n",
       " 'carceral',\n",
       " 'military',\n",
       " 'penitentiary',\n",
       " 'surveillance',\n",
       " 'scaffold',\n",
       " 'judicial',\n",
       " 'march',\n",
       " 'six',\n",
       " 'foot',\n",
       " 'half',\n",
       " 'iron',\n",
       " 'court',\n",
       " 'asthe',\n",
       " 'pain',\n",
       " 'quarter',\n",
       " 'ceremony',\n",
       " 'executioner',\n",
       " 'town',\n",
       " 'hours',\n",
       " 'instruction',\n",
       " 'twenty',\n",
       " 'workshops',\n",
       " 'delinquent',\n",
       " 'crime',\n",
       " 'iustice',\n",
       " 'penalty',\n",
       " 'asa',\n",
       " 'england',\n",
       " 'convicts',\n",
       " 'gradually',\n",
       " 'judges',\n",
       " 'execution',\n",
       " 'justice',\n",
       " 'spread',\n",
       " 'offender',\n",
       " 'additional',\n",
       " 'condemnedman',\n",
       " 'administration',\n",
       " 'convict',\n",
       " 'technique',\n",
       " 'improvement',\n",
       " 'strict',\n",
       " 'minor',\n",
       " 'civil',\n",
       " 'wheel',\n",
       " 'proofs',\n",
       " 'imprisonment',\n",
       " 'confinement',\n",
       " 'labour',\n",
       " 'penalties',\n",
       " 'liberty',\n",
       " 'penality',\n",
       " 'constituent',\n",
       " 'army',\n",
       " 'prisoner',\n",
       " 'rituals',\n",
       " 'calculated',\n",
       " 'seriesof',\n",
       " 'eighteenth',\n",
       " 'rank',\n",
       " 'guilty',\n",
       " 'methods',\n",
       " 'lastly',\n",
       " 'criminals',\n",
       " 'caseof',\n",
       " 'covered',\n",
       " 'crowd',\n",
       " 'august',\n",
       " 'laid',\n",
       " 'courts',\n",
       " 'mechanismsof',\n",
       " 'workers',\n",
       " 'overall',\n",
       " 'seemsto',\n",
       " 'apparatusof',\n",
       " 'exerciseof',\n",
       " 'betweenthe',\n",
       " 'quality',\n",
       " 'judgement',\n",
       " 'sametime',\n",
       " 'effectsof',\n",
       " 'offence',\n",
       " 'possibleto',\n",
       " 'machinery',\n",
       " 'obtain',\n",
       " 'systemof',\n",
       " 'individualization',\n",
       " 'techniques',\n",
       " 'technology',\n",
       " 'factory',\n",
       " 'detention',\n",
       " 'correction',\n",
       " 'utility',\n",
       " 'thosewho',\n",
       " 'furthermore',\n",
       " 'becauseit',\n",
       " 'technical',\n",
       " 'prisons',\n",
       " 'againstthe',\n",
       " 'architecture',\n",
       " 'proportion',\n",
       " 'royal',\n",
       " 'irregular',\n",
       " 'conduct',\n",
       " 'eighteenthcentury',\n",
       " 'combined',\n",
       " 'correct',\n",
       " 'duration',\n",
       " 'private',\n",
       " 'convicted',\n",
       " 'terrible',\n",
       " 'prince',\n",
       " 'soldiers',\n",
       " 'skill',\n",
       " 'supervision',\n",
       " 'slightest',\n",
       " 'agitation',\n",
       " 'allowed',\n",
       " 'illegality',\n",
       " 'theft',\n",
       " 'reformers',\n",
       " 'criminality',\n",
       " 'illegal',\n",
       " 'growth',\n",
       " 'r6gime',\n",
       " 'administrative',\n",
       " 'sur',\n",
       " 'fix',\n",
       " 'eachindividual',\n",
       " 'doesnot',\n",
       " 'useof',\n",
       " 'objectification',\n",
       " 'gentle',\n",
       " 'visit',\n",
       " 'july',\n",
       " 'centre',\n",
       " 'training',\n",
       " 'soldier',\n",
       " 'disciplines',\n",
       " 'schools',\n",
       " 'workshop',\n",
       " 'pupils',\n",
       " 'pupil',\n",
       " 'accumulation',\n",
       " 'bentham',\n",
       " 'panopticon',\n",
       " 'plague',\n",
       " 'panoptic',\n",
       " 'lucas',\n",
       " 'delinquents']"
      ]
     },
     "execution_count": 11,
     "metadata": {},
     "output_type": "execute_result"
    }
   ],
   "source": [
    "#top words in new text\n",
    "\n",
    "def list_unique_ngrams(newtext):\n",
    "    \"\"\"Return a set of unique ngrams in the text.\"\"\"\n",
    "    #generate ngram count dictionary\n",
    "    newtext_ngrams = ngram_tokenize(newtext)\n",
    "    return set(newtext_ngrams)\n",
    "    \n",
    "list_unique_ngrams(newtext)\n",
    "\n",
    "\n",
    "#find characteristic words of assigned author\n",
    "assigned_author = \"Michel Foucault\"\n",
    "author_word_scores = word_scores[assigned_author]\n",
    "characteristic_words = [] #put characteristic words in here\n",
    "\n",
    "#OUR CRITERION: THE AUTHOR'S WORD SCORE SHOULD BE ABOVE 2 FOR THAT WORD TO BE CHARACTERISTIC\n",
    "\n",
    "for word, score in author_word_scores.items():\n",
    "    if score >= 1.5:\n",
    "        characteristic_words.append(word)\n",
    "        \n",
    "characteristic_words\n",
    "\n",
    "    "
   ]
  },
  {
   "cell_type": "code",
   "execution_count": 12,
   "metadata": {},
   "outputs": [
    {
     "data": {
      "text/plain": [
       "0.0"
      ]
     },
     "execution_count": 12,
     "metadata": {},
     "output_type": "execute_result"
    }
   ],
   "source": [
    "log(1)"
   ]
  },
  {
   "cell_type": "code",
   "execution_count": null,
   "metadata": {},
   "outputs": [],
   "source": []
  },
  {
   "cell_type": "code",
   "execution_count": null,
   "metadata": {},
   "outputs": [],
   "source": []
  },
  {
   "cell_type": "markdown",
   "metadata": {},
   "source": [
    "## ABANDONED: Comparing a *new text*'s word usage against the the whole corpus (hard version)"
   ]
  },
  {
   "cell_type": "markdown",
   "metadata": {},
   "source": [
    "**A) Sorting words based on their specificity to the new text (compared to the whole training corpus)**\n",
    "\n",
    "I.e. this shows us what sets the new author apart from the whole training set people."
   ]
  },
  {
   "cell_type": "markdown",
   "metadata": {},
   "source": [
    "**B) Sort the top words to see whether they intersect with the most-specific words to the assigned author's corpus.**\n",
    "\n",
    "Two steps:\n",
    "1. Identify the most-used words in the new text (let's say the top 20%) (this is cruder than the likely-better method of counting against the whole corpus MINUS the assigned author.\n",
    "2. Identify an overlap with that author's most-specific words."
   ]
  },
  {
   "cell_type": "markdown",
   "metadata": {},
   "source": [
    "---\n",
    "We begin with step 1), in several sub steps:\n",
    "\n",
    "Step 1.1. Remove the assigned author from the corpus word count dictionary (simply create new dictionary).\n",
    "\n"
   ]
  },
  {
   "cell_type": "code",
   "execution_count": 13,
   "metadata": {},
   "outputs": [
    {
     "ename": "NameError",
     "evalue": "name 'updated_word_counts' is not defined",
     "output_type": "error",
     "traceback": [
      "\u001b[0;31m---------------------------------------------------------------------------\u001b[0m",
      "\u001b[0;31mNameError\u001b[0m                                 Traceback (most recent call last)",
      "\u001b[0;32m<ipython-input-13-cf0f3f66c10d>\u001b[0m in \u001b[0;36m<module>\u001b[0;34m\u001b[0m\n\u001b[1;32m     10\u001b[0m     \u001b[0;32mreturn\u001b[0m \u001b[0mword_counts\u001b[0m\u001b[0;34m\u001b[0m\u001b[0m\n\u001b[1;32m     11\u001b[0m \u001b[0;34m\u001b[0m\u001b[0m\n\u001b[0;32m---> 12\u001b[0;31m \u001b[0mupdated_word_counts\u001b[0m \u001b[0;34m=\u001b[0m \u001b[0mremove_author_from_word_counts\u001b[0m\u001b[0;34m(\u001b[0m\u001b[0;34m\"Michel Foucault\"\u001b[0m\u001b[0;34m,\u001b[0m \u001b[0mword_counts_imported\u001b[0m\u001b[0;34m)\u001b[0m\u001b[0;34m\u001b[0m\u001b[0m\n\u001b[0m",
      "\u001b[0;32m<ipython-input-13-cf0f3f66c10d>\u001b[0m in \u001b[0;36mremove_author_from_word_counts\u001b[0;34m(authorname, word_counts)\u001b[0m\n\u001b[1;32m      5\u001b[0m \u001b[0;34m\u001b[0m\u001b[0m\n\u001b[1;32m      6\u001b[0m     \u001b[0;31m#the dictionary is [word][author], so we have to remove the author from each word's entry\u001b[0m\u001b[0;34m\u001b[0m\u001b[0;34m\u001b[0m\u001b[0m\n\u001b[0;32m----> 7\u001b[0;31m     \u001b[0;32mfor\u001b[0m \u001b[0mword\u001b[0m \u001b[0;32min\u001b[0m \u001b[0mupdated_word_counts\u001b[0m\u001b[0;34m.\u001b[0m\u001b[0mkeys\u001b[0m\u001b[0;34m(\u001b[0m\u001b[0;34m)\u001b[0m\u001b[0;34m:\u001b[0m\u001b[0;34m\u001b[0m\u001b[0m\n\u001b[0m\u001b[1;32m      8\u001b[0m         \u001b[0;32mdel\u001b[0m \u001b[0mword_counts\u001b[0m\u001b[0;34m[\u001b[0m\u001b[0mword\u001b[0m\u001b[0;34m]\u001b[0m\u001b[0;34m[\u001b[0m\u001b[0mauthorname\u001b[0m\u001b[0;34m]\u001b[0m \u001b[0;31m#remove the given authorname's entry from that word\u001b[0m\u001b[0;34m\u001b[0m\u001b[0m\n\u001b[1;32m      9\u001b[0m \u001b[0;34m\u001b[0m\u001b[0m\n",
      "\u001b[0;31mNameError\u001b[0m: name 'updated_word_counts' is not defined"
     ]
    }
   ],
   "source": [
    "#remove assigned author from word count corpus\n",
    "\n",
    "def remove_author_from_word_counts(authorname, word_counts):\n",
    "    \"\"\"Taking a [word][authorname] double layer dictionary, return a copy with one of the authors removed\"\"\"\n",
    "    \n",
    "    #the dictionary is [word][author], so we have to remove the author from each word's entry\n",
    "    for word in updated_word_counts.keys():\n",
    "        del word_counts[word][authorname] #remove the given authorname's entry from that word\n",
    "        \n",
    "    return word_counts\n",
    "\n",
    "updated_word_counts = remove_author_from_word_counts(\"Michel Foucault\", word_counts_imported) \n"
   ]
  },
  {
   "cell_type": "markdown",
   "metadata": {},
   "source": [
    "Step 1.2. Score the new text's word specificity against this new word count dictionary (based on methods defined in part A)\n"
   ]
  },
  {
   "cell_type": "code",
   "execution_count": null,
   "metadata": {},
   "outputs": [],
   "source": [
    "newtext_scores_minus_author = new_text_word_score(new_text_wordcounts, updated_word_counts)\n",
    "sorted_scores_minus_author = sorted(newtext_scores_minus_author.items(), key=lambda x: x[1], reverse=True)"
   ]
  },
  {
   "cell_type": "markdown",
   "metadata": {},
   "source": [
    "Step 2: Identifying an overlap with that author's most specific words\n",
    "\n",
    "HONESTLY, THIS IS A FRUITLESS EXERCISE. ABANDONING FOR SOMETHING MUCH SIMPLER"
   ]
  },
  {
   "cell_type": "code",
   "execution_count": null,
   "metadata": {},
   "outputs": [],
   "source": [
    "author_wordscores_sorted = "
   ]
  }
 ],
 "metadata": {
  "kernelspec": {
   "display_name": "Python 3",
   "language": "python",
   "name": "python3"
  },
  "language_info": {
   "codemirror_mode": {
    "name": "ipython",
    "version": 3
   },
   "file_extension": ".py",
   "mimetype": "text/x-python",
   "name": "python",
   "nbconvert_exporter": "python",
   "pygments_lexer": "ipython3",
   "version": "3.7.0"
  }
 },
 "nbformat": 4,
 "nbformat_minor": 4
}
