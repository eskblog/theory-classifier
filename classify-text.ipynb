{
 "cells": [
  {
   "cell_type": "code",
   "execution_count": 4,
   "metadata": {},
   "outputs": [
    {
     "name": "stdout",
     "output_type": "stream",
     "text": [
      "The autoreload extension is already loaded. To reload it, use:\n",
      "  %reload_ext autoreload\n"
     ]
    }
   ],
   "source": [
    "%load_ext autoreload\n",
    "\n",
    "%autoreload 2\n",
    "\n",
    "#This makes sure that when imported functions are changed, \n",
    "#they are actually updated."
   ]
  },
  {
   "cell_type": "markdown",
   "metadata": {},
   "source": [
    "## Loading the model + classifying a new string\n",
    "\n",
    "Now, in order to apply this predictor to a new string, we must put the text data in a format which this pipeline can apply its first transformation to. In this case, it wants an iterable. We can give it one!"
   ]
  },
  {
   "cell_type": "code",
   "execution_count": 3,
   "metadata": {},
   "outputs": [],
   "source": [
    "#load classifier! -- need to do this just once\n",
    "from joblib import load\n",
    "text_clf = load('classifier.joblib')"
   ]
  },
  {
   "cell_type": "code",
   "execution_count": 6,
   "metadata": {},
   "outputs": [
    {
     "name": "stdout",
     "output_type": "stream",
     "text": [
      "butler: 0.022850917242703606\n",
      "\n",
      "derrida: -0.4844058944183551\n",
      "\n",
      "foucault: 3.1566891526735508\n",
      "\n",
      "zizek: -3.0429894121988577\n",
      "\n",
      "\n"
     ]
    }
   ],
   "source": [
    "from theorizer import theorize_text #this is the function which, when fed a text, returns a decision function based on input classifier\n",
    "\n",
    "#get string from testing file to see how prediction goes...\n",
    "TESTING_FILE = \"/Users/macbook/Downloads/foucault-sex-FRAGMENT.txt\"\n",
    "f = open(TESTING_FILE, errors=\"ignore\")\n",
    "guess_string= f.read()\n",
    "\n",
    "#print the guess dictionary that comes out, {author:value}\n",
    "print(theorize_text(s=guess_string, classifier = text_clf, dict_result = False)) #we pass the link and loaded classifier to theorize\n",
    "f.close()"
   ]
  },
  {
   "cell_type": "markdown",
   "metadata": {},
   "source": [
    "## Further goals:\n",
    "\n",
    "- DONE: Write out most \"characteristic\" words of each author, as an interesting exercise.\n",
    "- Write out most \"characteristic\" words for the input text, perhaps integrating it into the existing corpus?? Weird idea, we will see."
   ]
  }
 ],
 "metadata": {
  "kernelspec": {
   "display_name": "Python 3",
   "language": "python",
   "name": "python3"
  },
  "language_info": {
   "codemirror_mode": {
    "name": "ipython",
    "version": 3
   },
   "file_extension": ".py",
   "mimetype": "text/x-python",
   "name": "python",
   "nbconvert_exporter": "python",
   "pygments_lexer": "ipython3",
   "version": "3.7.0"
  }
 },
 "nbformat": 4,
 "nbformat_minor": 4
}
